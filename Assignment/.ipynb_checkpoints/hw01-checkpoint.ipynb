{
 "cells": [
  {
   "cell_type": "code",
   "execution_count": 9,
   "metadata": {
    "collapsed": true
   },
   "outputs": [
    {
     "name": "stdout",
     "output_type": "stream",
     "text": [
      "hw1.class\n",
      "hw1.java\n",
      "JB26103\n",
      "JB26103.png\n",
      "JB26103.zip\n",
      "pt11.class\n",
      "pt11.java\n",
      "pt12.class\n",
      "pt12.java\n",
      "pt13.class\n",
      "pt13.java\n",
      "run.bat\n"
     ]
    },
    {
     "name": "stderr",
     "output_type": "stream",
     "text": [
      "File Not Found\n"
     ]
    }
   ],
   "source": [
    "ls hw01 /b *.java"
   ]
  },
  {
   "cell_type": "code",
   "execution_count": null,
   "metadata": {
    "collapsed": false
   },
   "outputs": [],
   "source": [
    "# %load hw01/pt11.java\n",
    "public class pt11 {\n",
    "\tpublic static void main(String[] args) {\n",
    "\t\tSystem.out.println(\"Hello, World!\");\n",
    "\t}\n",
    "}"
   ]
  },
  {
   "cell_type": "code",
   "execution_count": null,
   "metadata": {
    "collapsed": false
   },
   "outputs": [],
   "source": [
    "# %load hw01/pt12.java\n",
    "public class pt12 {\n",
    "\tpublic static void main(String[] args) {\n",
    "\t\tSystem.out.println(\"春曉\");\n",
    "\t\tSystem.out.println(\"春眠不覺曉，\");\n",
    "\t\tSystem.out.println(\"處處聞啼鳥；\");\n",
    "\t\tSystem.out.println(\"夜來風雨聲，\");\n",
    "\t\tSystem.out.println(\"花落知多少。\");\n",
    "\t}\n",
    "}"
   ]
  },
  {
   "cell_type": "code",
   "execution_count": null,
   "metadata": {
    "collapsed": false
   },
   "outputs": [],
   "source": [
    "# %load hw01/pt13.java\n",
    "public class pt13 {\n",
    "\tpublic static void main(String[] args) {\n",
    "\t\tSystem.out.println(\"你的年齡是 \" + args[0]);\n",
    "\t\tSystem.out.println(\"你住在 \" + args[1] + \" 的 \" + args[2]);\n",
    "\t}\n",
    "}"
   ]
  },
  {
   "cell_type": "code",
   "execution_count": null,
   "metadata": {
    "collapsed": true
   },
   "outputs": [],
   "source": [
    "# %load hw01/hw1.java\n",
    "/**\n",
    " * @(#)hw1.java\n",
    " *\n",
    " *\n",
    " * @徐志宏 \n",
    " * @version 1.00 2015/10/6\n",
    " */\n",
    "\n",
    "public class hw1 {\n",
    "\tpublic static void main(String[] args) {\n",
    "\t\tSystem.out.println(\"Hello, World! 我是徐志宏!\");\n",
    "\t}\n",
    "}"
   ]
  },
  {
   "cell_type": "code",
   "execution_count": null,
   "metadata": {
    "collapsed": true
   },
   "outputs": [],
   "source": []
  }
 ],
 "metadata": {
  "kernelspec": {
   "display_name": "Python 3",
   "language": "python",
   "name": "python3"
  },
  "language_info": {
   "codemirror_mode": {
    "name": "ipython",
    "version": 3
   },
   "file_extension": ".py",
   "mimetype": "text/x-python",
   "name": "python",
   "nbconvert_exporter": "python",
   "pygments_lexer": "ipython3",
   "version": "3.4.3"
  }
 },
 "nbformat": 4,
 "nbformat_minor": 0
}
